{
 "cells": [
  {
   "cell_type": "code",
   "execution_count": 1,
   "id": "6f85eee9",
   "metadata": {},
   "outputs": [],
   "source": [
    "import pandas as pd\n",
    " \n",
    "pd.options.display.max_colwidth = 1000   \n",
    "pd.set_option('float_format', '{:f}'.format)"
   ]
  },
  {
   "cell_type": "code",
   "execution_count": 2,
   "id": "1311ccac",
   "metadata": {},
   "outputs": [],
   "source": [
    "df_rental = pd.read_csv('../data/SRPP with Closing Dates.csv')"
   ]
  },
  {
   "cell_type": "code",
   "execution_count": 3,
   "id": "c959e5cb",
   "metadata": {},
   "outputs": [],
   "source": [
    "df_bnb = pd.read_csv('../data/Short-Term_Rental_Permit_Applications.csv')"
   ]
  },
  {
   "cell_type": "code",
   "execution_count": 4,
   "id": "32ef714e",
   "metadata": {},
   "outputs": [],
   "source": [
    "df_blight = pd.read_csv('../data/Code_Enforcement_All_Violations.csv')"
   ]
  },
  {
   "cell_type": "code",
   "execution_count": 5,
   "id": "f07bc1f8",
   "metadata": {},
   "outputs": [
    {
     "data": {
      "text/plain": [
       "4489"
      ]
     },
     "execution_count": 5,
     "metadata": {},
     "output_type": "execute_result"
    }
   ],
   "source": [
    "len(df_rental) # 4489"
   ]
  },
  {
   "cell_type": "code",
   "execution_count": 6,
   "id": "774ecddf",
   "metadata": {},
   "outputs": [
    {
     "data": {
      "text/plain": [
       "25966"
      ]
     },
     "execution_count": 6,
     "metadata": {},
     "output_type": "execute_result"
    }
   ],
   "source": [
    "len(df_bnb) #25966"
   ]
  },
  {
   "cell_type": "code",
   "execution_count": 7,
   "id": "070ff82c",
   "metadata": {},
   "outputs": [
    {
     "data": {
      "text/plain": [
       "205672"
      ]
     },
     "execution_count": 7,
     "metadata": {},
     "output_type": "execute_result"
    }
   ],
   "source": [
    "len(df_blight) #205672"
   ]
  },
  {
   "cell_type": "code",
   "execution_count": 8,
   "id": "a6a3919d",
   "metadata": {},
   "outputs": [
    {
     "data": {
      "text/html": [
       "<div>\n",
       "<style scoped>\n",
       "    .dataframe tbody tr th:only-of-type {\n",
       "        vertical-align: middle;\n",
       "    }\n",
       "\n",
       "    .dataframe tbody tr th {\n",
       "        vertical-align: top;\n",
       "    }\n",
       "\n",
       "    .dataframe thead th {\n",
       "        text-align: right;\n",
       "    }\n",
       "</style>\n",
       "<table border=\"1\" class=\"dataframe\">\n",
       "  <thead>\n",
       "    <tr style=\"text-align: right;\">\n",
       "      <th></th>\n",
       "      <th>Permit Number</th>\n",
       "      <th>Address</th>\n",
       "      <th>Permit Type</th>\n",
       "      <th>Residential Subtype</th>\n",
       "      <th>Current Status</th>\n",
       "      <th>Expired</th>\n",
       "      <th>Expiration Date</th>\n",
       "      <th>Bedroom Limit</th>\n",
       "      <th>Guest Occupancy Limit</th>\n",
       "      <th>Link</th>\n",
       "      <th>...</th>\n",
       "      <th>Operator Phone</th>\n",
       "      <th>Operator Email</th>\n",
       "      <th>Operator Permit Number</th>\n",
       "      <th>License Holder Name</th>\n",
       "      <th>Application Date</th>\n",
       "      <th>Issue_Date</th>\n",
       "      <th>Reference Code</th>\n",
       "      <th>X</th>\n",
       "      <th>Y</th>\n",
       "      <th>Location</th>\n",
       "    </tr>\n",
       "  </thead>\n",
       "  <tbody>\n",
       "    <tr>\n",
       "      <th>25961</th>\n",
       "      <td>19STR-23250</td>\n",
       "      <td>8405 Sycamore St</td>\n",
       "      <td>Accessory STR</td>\n",
       "      <td>NaN</td>\n",
       "      <td>Expired</td>\n",
       "      <td>Yes</td>\n",
       "      <td>11/24/2020</td>\n",
       "      <td>1.000000</td>\n",
       "      <td>2.000000</td>\n",
       "      <td>http://onestopapp.nola.gov/Redirect.aspx?SearchString=WMSUPW</td>\n",
       "      <td>...</td>\n",
       "      <td>410-493-2922</td>\n",
       "      <td>liquid_air_01@yahoo.com</td>\n",
       "      <td>NaN</td>\n",
       "      <td>SUZANNE LANKS</td>\n",
       "      <td>11/11/2019</td>\n",
       "      <td>11/25/2019</td>\n",
       "      <td>WMSUPW</td>\n",
       "      <td>3663479.520000</td>\n",
       "      <td>531798.080000</td>\n",
       "      <td>(29.956795154557764, -90.1249635159447)</td>\n",
       "    </tr>\n",
       "    <tr>\n",
       "      <th>25962</th>\n",
       "      <td>NaN</td>\n",
       "      <td>2041 Seventh St</td>\n",
       "      <td>Short Term Rental Residential Owner</td>\n",
       "      <td>Residential Partial Unit</td>\n",
       "      <td>Duplicate</td>\n",
       "      <td>No</td>\n",
       "      <td>NaN</td>\n",
       "      <td>NaN</td>\n",
       "      <td>NaN</td>\n",
       "      <td>http://onestopapp.nola.gov/Redirect.aspx?SearchString=VGN8YQ</td>\n",
       "      <td>...</td>\n",
       "      <td>504-250-7544</td>\n",
       "      <td>ltran0702@gmail.com</td>\n",
       "      <td>NaN</td>\n",
       "      <td>Lisa Tran</td>\n",
       "      <td>11/15/2021</td>\n",
       "      <td>NaN</td>\n",
       "      <td>VGN8YQ</td>\n",
       "      <td>3674311.470000</td>\n",
       "      <td>523559.900000</td>\n",
       "      <td>(29.933824330519467, -90.09104165378574)</td>\n",
       "    </tr>\n",
       "    <tr>\n",
       "      <th>25963</th>\n",
       "      <td>NaN</td>\n",
       "      <td>339 Carondelet St Apt 3C</td>\n",
       "      <td>Short Term Rental Commercial Owner</td>\n",
       "      <td>NaN</td>\n",
       "      <td>Pending</td>\n",
       "      <td>No</td>\n",
       "      <td>NaN</td>\n",
       "      <td>1.000000</td>\n",
       "      <td>2.000000</td>\n",
       "      <td>http://onestopapp.nola.gov/Redirect.aspx?SearchString=X6AXRS</td>\n",
       "      <td>...</td>\n",
       "      <td>504-415-9004</td>\n",
       "      <td>lydiafairbanks@yahoo.com</td>\n",
       "      <td>21-OSTR-12874</td>\n",
       "      <td>Marc LaPointe</td>\n",
       "      <td>10/01/2021</td>\n",
       "      <td>NaN</td>\n",
       "      <td>X6AXRS</td>\n",
       "      <td>3680381.330000</td>\n",
       "      <td>529904.550000</td>\n",
       "      <td>(29.95108765829564, -90.07165884407559)</td>\n",
       "    </tr>\n",
       "    <tr>\n",
       "      <th>25964</th>\n",
       "      <td>20-RSTR-01967</td>\n",
       "      <td>1029 Jena St</td>\n",
       "      <td>Short Term Rental Residential Owner</td>\n",
       "      <td>Residential Small Unit</td>\n",
       "      <td>Expired</td>\n",
       "      <td>Yes</td>\n",
       "      <td>04/20/2022</td>\n",
       "      <td>1.000000</td>\n",
       "      <td>2.000000</td>\n",
       "      <td>http://onestopapp.nola.gov/Redirect.aspx?SearchString=TKE7KT</td>\n",
       "      <td>...</td>\n",
       "      <td>504-239-7832</td>\n",
       "      <td>barbra_g@cox.net</td>\n",
       "      <td>20-OSTR-01966</td>\n",
       "      <td>Barbara B Gaiennie</td>\n",
       "      <td>01/28/2020</td>\n",
       "      <td>04/21/2021</td>\n",
       "      <td>TKE7KT</td>\n",
       "      <td>3670635.970000</td>\n",
       "      <td>519378.710000</td>\n",
       "      <td>(29.922436455470415, -90.10278682572948)</td>\n",
       "    </tr>\n",
       "    <tr>\n",
       "      <th>25965</th>\n",
       "      <td>NaN</td>\n",
       "      <td>747 Fourth St</td>\n",
       "      <td>Short Term Rental Residential Owner</td>\n",
       "      <td>Residential Small Unit</td>\n",
       "      <td>Denied</td>\n",
       "      <td>Yes</td>\n",
       "      <td>NaN</td>\n",
       "      <td>2.000000</td>\n",
       "      <td>4.000000</td>\n",
       "      <td>http://onestopapp.nola.gov/Redirect.aspx?SearchString=WCXBW4</td>\n",
       "      <td>...</td>\n",
       "      <td>NaN</td>\n",
       "      <td>NaN</td>\n",
       "      <td>NaN</td>\n",
       "      <td>Hue Nguyen</td>\n",
       "      <td>02/13/2020</td>\n",
       "      <td>NaN</td>\n",
       "      <td>WCXBW4</td>\n",
       "      <td>3677970.810000</td>\n",
       "      <td>520072.450000</td>\n",
       "      <td>(29.92412538408247, -90.0796097430964)</td>\n",
       "    </tr>\n",
       "  </tbody>\n",
       "</table>\n",
       "<p>5 rows × 21 columns</p>\n",
       "</div>"
      ],
      "text/plain": [
       "       Permit Number                   Address  \\\n",
       "25961    19STR-23250          8405 Sycamore St   \n",
       "25962            NaN           2041 Seventh St   \n",
       "25963            NaN  339 Carondelet St Apt 3C   \n",
       "25964  20-RSTR-01967              1029 Jena St   \n",
       "25965            NaN             747 Fourth St   \n",
       "\n",
       "                               Permit Type       Residential Subtype  \\\n",
       "25961                        Accessory STR                       NaN   \n",
       "25962  Short Term Rental Residential Owner  Residential Partial Unit   \n",
       "25963   Short Term Rental Commercial Owner                       NaN   \n",
       "25964  Short Term Rental Residential Owner    Residential Small Unit   \n",
       "25965  Short Term Rental Residential Owner    Residential Small Unit   \n",
       "\n",
       "      Current Status Expired Expiration Date  Bedroom Limit  \\\n",
       "25961        Expired     Yes      11/24/2020       1.000000   \n",
       "25962      Duplicate      No             NaN            NaN   \n",
       "25963        Pending      No             NaN       1.000000   \n",
       "25964        Expired     Yes      04/20/2022       1.000000   \n",
       "25965         Denied     Yes             NaN       2.000000   \n",
       "\n",
       "       Guest Occupancy Limit  \\\n",
       "25961               2.000000   \n",
       "25962                    NaN   \n",
       "25963               2.000000   \n",
       "25964               2.000000   \n",
       "25965               4.000000   \n",
       "\n",
       "                                                               Link  ...  \\\n",
       "25961  http://onestopapp.nola.gov/Redirect.aspx?SearchString=WMSUPW  ...   \n",
       "25962  http://onestopapp.nola.gov/Redirect.aspx?SearchString=VGN8YQ  ...   \n",
       "25963  http://onestopapp.nola.gov/Redirect.aspx?SearchString=X6AXRS  ...   \n",
       "25964  http://onestopapp.nola.gov/Redirect.aspx?SearchString=TKE7KT  ...   \n",
       "25965  http://onestopapp.nola.gov/Redirect.aspx?SearchString=WCXBW4  ...   \n",
       "\n",
       "      Operator Phone            Operator Email Operator Permit Number  \\\n",
       "25961   410-493-2922   liquid_air_01@yahoo.com                    NaN   \n",
       "25962   504-250-7544       ltran0702@gmail.com                    NaN   \n",
       "25963   504-415-9004  lydiafairbanks@yahoo.com          21-OSTR-12874   \n",
       "25964   504-239-7832          barbra_g@cox.net          20-OSTR-01966   \n",
       "25965            NaN                       NaN                    NaN   \n",
       "\n",
       "      License Holder Name Application Date  Issue_Date Reference Code  \\\n",
       "25961       SUZANNE LANKS       11/11/2019  11/25/2019         WMSUPW   \n",
       "25962           Lisa Tran       11/15/2021         NaN         VGN8YQ   \n",
       "25963       Marc LaPointe       10/01/2021         NaN         X6AXRS   \n",
       "25964  Barbara B Gaiennie       01/28/2020  04/21/2021         TKE7KT   \n",
       "25965          Hue Nguyen       02/13/2020         NaN         WCXBW4   \n",
       "\n",
       "                   X             Y                                  Location  \n",
       "25961 3663479.520000 531798.080000   (29.956795154557764, -90.1249635159447)  \n",
       "25962 3674311.470000 523559.900000  (29.933824330519467, -90.09104165378574)  \n",
       "25963 3680381.330000 529904.550000   (29.95108765829564, -90.07165884407559)  \n",
       "25964 3670635.970000 519378.710000  (29.922436455470415, -90.10278682572948)  \n",
       "25965 3677970.810000 520072.450000    (29.92412538408247, -90.0796097430964)  \n",
       "\n",
       "[5 rows x 21 columns]"
      ]
     },
     "execution_count": 8,
     "metadata": {},
     "output_type": "execute_result"
    }
   ],
   "source": [
    "df_bnb.tail()"
   ]
  },
  {
   "cell_type": "markdown",
   "id": "69da111d",
   "metadata": {},
   "source": [
    "## Check address types"
   ]
  },
  {
   "cell_type": "code",
   "execution_count": 9,
   "id": "fbea0372",
   "metadata": {},
   "outputs": [
    {
     "data": {
      "text/plain": [
       "0          1735, 1737 PIETY  STREET \n",
       "1              7591 LACOMBE  STREET \n",
       "2                  1021 Egania   St \n",
       "3              8610,8612 Bill Street\n",
       "4         2911-2913 Castiglione  St \n",
       "                    ...             \n",
       "4484      2412  St. Matthew  Circle \n",
       "4485               3012  Laplace St \n",
       "4486                 2001 Mehle  St \n",
       "4487    1910-1912 Saint Phillip  St \n",
       "4488             2723  Higgins Blvd \n",
       "Name: Property Address, Length: 4489, dtype: object"
      ]
     },
     "execution_count": 9,
     "metadata": {},
     "output_type": "execute_result"
    }
   ],
   "source": [
    "df_rental['Property Address']"
   ]
  },
  {
   "cell_type": "code",
   "execution_count": 10,
   "id": "6a3fdce2",
   "metadata": {},
   "outputs": [
    {
     "data": {
      "text/plain": [
       "614"
      ]
     },
     "execution_count": 10,
     "metadata": {},
     "output_type": "execute_result"
    }
   ],
   "source": [
    "## How many are in format /d+ /w+ /w+ ?\n",
    "len(df_rental[df_rental['Property Address'].str.match(\"\\d+ \\w+ \\w+\")])"
   ]
  },
  {
   "cell_type": "code",
   "execution_count": 11,
   "id": "1b161473",
   "metadata": {},
   "outputs": [
    {
     "data": {
      "text/plain": [
       "4489"
      ]
     },
     "execution_count": 11,
     "metadata": {},
     "output_type": "execute_result"
    }
   ],
   "source": [
    "len(df_rental)"
   ]
  },
  {
   "cell_type": "code",
   "execution_count": 12,
   "id": "5e7ceb2b",
   "metadata": {},
   "outputs": [
    {
     "data": {
      "text/plain": [
       "0.13677879260414347"
      ]
     },
     "execution_count": 12,
     "metadata": {},
     "output_type": "execute_result"
    }
   ],
   "source": [
    "614/4489"
   ]
  },
  {
   "cell_type": "code",
   "execution_count": 13,
   "id": "54916871",
   "metadata": {},
   "outputs": [],
   "source": [
    "df_bnb.Address.fillna(\"\", inplace=True)"
   ]
  },
  {
   "cell_type": "code",
   "execution_count": 76,
   "id": "53c4b6b0",
   "metadata": {},
   "outputs": [
    {
     "data": {
      "text/plain": [
       "25154"
      ]
     },
     "execution_count": 76,
     "metadata": {},
     "output_type": "execute_result"
    }
   ],
   "source": [
    "## How many are in format /d+ /w+ /w+ ?\n",
    "len(df_bnb[df_bnb['Address'].str.match(\"\\d+ \\w+ [a-zA-Z]\")])"
   ]
  },
  {
   "cell_type": "code",
   "execution_count": 80,
   "id": "42486b5a",
   "metadata": {},
   "outputs": [
    {
     "data": {
      "text/html": [
       "<div>\n",
       "<style scoped>\n",
       "    .dataframe tbody tr th:only-of-type {\n",
       "        vertical-align: middle;\n",
       "    }\n",
       "\n",
       "    .dataframe tbody tr th {\n",
       "        vertical-align: top;\n",
       "    }\n",
       "\n",
       "    .dataframe thead th {\n",
       "        text-align: right;\n",
       "    }\n",
       "</style>\n",
       "<table border=\"1\" class=\"dataframe\">\n",
       "  <thead>\n",
       "    <tr style=\"text-align: right;\">\n",
       "      <th></th>\n",
       "      <th>Permit Number</th>\n",
       "      <th>Address</th>\n",
       "      <th>Permit Type</th>\n",
       "      <th>Residential Subtype</th>\n",
       "      <th>Current Status</th>\n",
       "      <th>Expired</th>\n",
       "      <th>Expiration Date</th>\n",
       "      <th>Bedroom Limit</th>\n",
       "      <th>Guest Occupancy Limit</th>\n",
       "      <th>Link</th>\n",
       "      <th>...</th>\n",
       "      <th>Operator Permit Number</th>\n",
       "      <th>License Holder Name</th>\n",
       "      <th>Application Date</th>\n",
       "      <th>Issue_Date</th>\n",
       "      <th>Reference Code</th>\n",
       "      <th>X</th>\n",
       "      <th>Y</th>\n",
       "      <th>Location</th>\n",
       "      <th>address_caps</th>\n",
       "      <th>street_name</th>\n",
       "    </tr>\n",
       "  </thead>\n",
       "  <tbody>\n",
       "    <tr>\n",
       "      <th>4398</th>\n",
       "      <td>17STR-07927</td>\n",
       "      <td>2240 Dante S</td>\n",
       "      <td>Accessory STR</td>\n",
       "      <td>NaN</td>\n",
       "      <td>Expired</td>\n",
       "      <td>Yes</td>\n",
       "      <td>05/01/2018</td>\n",
       "      <td>1.000000</td>\n",
       "      <td>2.000000</td>\n",
       "      <td>http://onestopapp.nola.gov/Redirect.aspx?SearchString=17ZXAJ</td>\n",
       "      <td>...</td>\n",
       "      <td>NaN</td>\n",
       "      <td>Patrick Rowan Kennedy</td>\n",
       "      <td>04/19/2017</td>\n",
       "      <td>05/02/2017</td>\n",
       "      <td>17ZXAJ</td>\n",
       "      <td>3663988.573570</td>\n",
       "      <td>531742.643460</td>\n",
       "      <td>(29.956627951166166, -90.12335792838047)</td>\n",
       "      <td>2240 DANTE S</td>\n",
       "      <td>DANTE S</td>\n",
       "    </tr>\n",
       "  </tbody>\n",
       "</table>\n",
       "<p>1 rows × 23 columns</p>\n",
       "</div>"
      ],
      "text/plain": [
       "     Permit Number       Address    Permit Type Residential Subtype  \\\n",
       "4398   17STR-07927  2240 Dante S  Accessory STR                 NaN   \n",
       "\n",
       "     Current Status Expired Expiration Date  Bedroom Limit  \\\n",
       "4398        Expired     Yes      05/01/2018       1.000000   \n",
       "\n",
       "      Guest Occupancy Limit  \\\n",
       "4398               2.000000   \n",
       "\n",
       "                                                              Link  ...  \\\n",
       "4398  http://onestopapp.nola.gov/Redirect.aspx?SearchString=17ZXAJ  ...   \n",
       "\n",
       "     Operator Permit Number    License Holder Name Application Date  \\\n",
       "4398                    NaN  Patrick Rowan Kennedy       04/19/2017   \n",
       "\n",
       "      Issue_Date Reference Code              X             Y  \\\n",
       "4398  05/02/2017         17ZXAJ 3663988.573570 531742.643460   \n",
       "\n",
       "                                      Location  address_caps  street_name  \n",
       "4398  (29.956627951166166, -90.12335792838047)  2240 DANTE S      DANTE S  \n",
       "\n",
       "[1 rows x 23 columns]"
      ]
     },
     "execution_count": 80,
     "metadata": {},
     "output_type": "execute_result"
    }
   ],
   "source": [
    "df_bnb[df_bnb['Address'].str.match(\"\\d+ \\w+ [ST|STREET]$\")]"
   ]
  },
  {
   "cell_type": "code",
   "execution_count": null,
   "id": "2c5a8949",
   "metadata": {},
   "outputs": [],
   "source": []
  },
  {
   "cell_type": "code",
   "execution_count": 15,
   "id": "1ee764b8",
   "metadata": {},
   "outputs": [
    {
     "data": {
      "text/plain": [
       "0.9687283370561504"
      ]
     },
     "execution_count": 15,
     "metadata": {},
     "output_type": "execute_result"
    }
   ],
   "source": [
    "25154/len(df_bnb)"
   ]
  },
  {
   "cell_type": "code",
   "execution_count": 16,
   "id": "20187a0d",
   "metadata": {},
   "outputs": [
    {
     "data": {
      "text/plain": [
       "162827"
      ]
     },
     "execution_count": 16,
     "metadata": {},
     "output_type": "execute_result"
    }
   ],
   "source": [
    "## How many are in format /d+ /w+ /w+ ?\n",
    "len(df_blight[df_blight['Location'].str.match(\"\\d+ \\w+ \\w+\")]) "
   ]
  },
  {
   "cell_type": "code",
   "execution_count": 17,
   "id": "26a83266",
   "metadata": {},
   "outputs": [
    {
     "data": {
      "text/plain": [
       "0.7916828737018164"
      ]
     },
     "execution_count": 17,
     "metadata": {},
     "output_type": "execute_result"
    }
   ],
   "source": [
    "162827/  len(df_blight)"
   ]
  },
  {
   "cell_type": "markdown",
   "id": "9aece5a8",
   "metadata": {},
   "source": [
    "## Roughly extract street names"
   ]
  },
  {
   "cell_type": "code",
   "execution_count": 18,
   "id": "51346f6e",
   "metadata": {},
   "outputs": [],
   "source": [
    "df_rental[\"address_caps\"] = df_rental[\"Property Address\"].str.upper()"
   ]
  },
  {
   "cell_type": "code",
   "execution_count": 19,
   "id": "ec268308",
   "metadata": {},
   "outputs": [
    {
     "data": {
      "text/plain": [
       "0          1735, 1737 PIETY  STREET \n",
       "1              7591 LACOMBE  STREET \n",
       "2                  1021 EGANIA   ST \n",
       "3              8610,8612 BILL STREET\n",
       "4         2911-2913 CASTIGLIONE  ST \n",
       "                    ...             \n",
       "4484      2412  ST. MATTHEW  CIRCLE \n",
       "4485               3012  LAPLACE ST \n",
       "4486                 2001 MEHLE  ST \n",
       "4487    1910-1912 SAINT PHILLIP  ST \n",
       "4488             2723  HIGGINS BLVD \n",
       "Name: address_caps, Length: 4489, dtype: object"
      ]
     },
     "execution_count": 19,
     "metadata": {},
     "output_type": "execute_result"
    }
   ],
   "source": [
    "df_rental[\"address_caps\"]"
   ]
  },
  {
   "cell_type": "code",
   "execution_count": 20,
   "id": "de637c99",
   "metadata": {},
   "outputs": [],
   "source": [
    "df_bnb[\"address_caps\"] = df_bnb[\"Address\"].str.upper()"
   ]
  },
  {
   "cell_type": "code",
   "execution_count": 21,
   "id": "bfa20f38",
   "metadata": {},
   "outputs": [],
   "source": [
    "df_blight[\"address_caps\"] = df_blight[\"Location\"].str.upper()"
   ]
  },
  {
   "cell_type": "code",
   "execution_count": 22,
   "id": "ca0db1a6",
   "metadata": {},
   "outputs": [],
   "source": [
    "## Just get street name"
   ]
  },
  {
   "cell_type": "code",
   "execution_count": 23,
   "id": "3692cdf2",
   "metadata": {},
   "outputs": [],
   "source": [
    "df_rental[\"street_name\"] = df_rental.address_caps.str.extract(\"\\d+ ((\\s|\\w)+ \\w+)\")[0]"
   ]
  },
  {
   "cell_type": "code",
   "execution_count": 24,
   "id": "c752da46",
   "metadata": {},
   "outputs": [
    {
     "data": {
      "text/plain": [
       "391"
      ]
     },
     "execution_count": 24,
     "metadata": {},
     "output_type": "execute_result"
    }
   ],
   "source": [
    "len(df_rental[df_rental.street_name.isna()])"
   ]
  },
  {
   "cell_type": "code",
   "execution_count": 25,
   "id": "1e9ca8d1",
   "metadata": {},
   "outputs": [
    {
     "data": {
      "text/plain": [
       "4098"
      ]
     },
     "execution_count": 25,
     "metadata": {},
     "output_type": "execute_result"
    }
   ],
   "source": [
    "4489 - 391"
   ]
  },
  {
   "cell_type": "code",
   "execution_count": 26,
   "id": "f03e82fb",
   "metadata": {},
   "outputs": [
    {
     "data": {
      "text/plain": [
       "0.9128981955892181"
      ]
     },
     "execution_count": 26,
     "metadata": {},
     "output_type": "execute_result"
    }
   ],
   "source": [
    "4098/4489"
   ]
  },
  {
   "cell_type": "code",
   "execution_count": 27,
   "id": "5496ebf9",
   "metadata": {},
   "outputs": [],
   "source": [
    "#df_rental.to_csv('../data/')"
   ]
  },
  {
   "cell_type": "code",
   "execution_count": 28,
   "id": "94ee8bb2",
   "metadata": {},
   "outputs": [],
   "source": [
    "df_bnb['street_name'] = df_bnb.address_caps.str.extract(\"\\d+\\s(\\w+\\s\\w+)\")"
   ]
  },
  {
   "cell_type": "code",
   "execution_count": 42,
   "id": "cdf83b5c",
   "metadata": {},
   "outputs": [
    {
     "data": {
      "text/plain": [
       "0                     \n",
       "1           ST BERNARD\n",
       "2             ROYAL ST\n",
       "3            ZIMPLE ST\n",
       "4              BELL ST\n",
       "             ...      \n",
       "25961      SYCAMORE ST\n",
       "25962       SEVENTH ST\n",
       "25963    CARONDELET ST\n",
       "25964          JENA ST\n",
       "25965        FOURTH ST\n",
       "Name: street_name, Length: 25966, dtype: object"
      ]
     },
     "execution_count": 42,
     "metadata": {},
     "output_type": "execute_result"
    }
   ],
   "source": [
    "df_bnb['street_name']"
   ]
  },
  {
   "cell_type": "code",
   "execution_count": 51,
   "id": "70f490a6",
   "metadata": {},
   "outputs": [],
   "source": [
    "df_blight['street_name'] = df_blight.address_caps.str.extract(\"[\\d+|-|\\s]\\s(.+)\")"
   ]
  },
  {
   "cell_type": "markdown",
   "id": "65091c84",
   "metadata": {},
   "source": [
    "## Let's attempt to merge on street name"
   ]
  },
  {
   "cell_type": "code",
   "execution_count": 53,
   "id": "05457f01",
   "metadata": {},
   "outputs": [],
   "source": [
    "## Rental repairs db is the base -- so it's the left column."
   ]
  },
  {
   "cell_type": "code",
   "execution_count": 54,
   "id": "53c46a86",
   "metadata": {},
   "outputs": [
    {
     "data": {
      "text/plain": [
       "4489"
      ]
     },
     "execution_count": 54,
     "metadata": {},
     "output_type": "execute_result"
    }
   ],
   "source": [
    "len(df_rental)"
   ]
  },
  {
   "cell_type": "code",
   "execution_count": 67,
   "id": "314cee1f",
   "metadata": {},
   "outputs": [],
   "source": [
    "## start with bnb\n",
    "merged = df_rental.merge(df_bnb, left_on=\"street_name\", right_on=\"street_name\",how=\"inner\")"
   ]
  },
  {
   "cell_type": "code",
   "execution_count": 68,
   "id": "ad45aa6d",
   "metadata": {},
   "outputs": [
    {
     "data": {
      "text/plain": [
       "14569"
      ]
     },
     "execution_count": 68,
     "metadata": {},
     "output_type": "execute_result"
    }
   ],
   "source": [
    "len(merged)"
   ]
  },
  {
   "cell_type": "code",
   "execution_count": 69,
   "id": "47ad20d2",
   "metadata": {},
   "outputs": [],
   "source": [
    "# merge blight\n",
    "merged_blight = merged.merge(df_blight, left_on=\"street_name\", right_on=\"street_name\", how=\"inner\")"
   ]
  },
  {
   "cell_type": "code",
   "execution_count": 70,
   "id": "26371d85",
   "metadata": {},
   "outputs": [
    {
     "data": {
      "text/plain": [
       "6792162"
      ]
     },
     "execution_count": 70,
     "metadata": {},
     "output_type": "execute_result"
    }
   ],
   "source": [
    "len(merged_blight)"
   ]
  },
  {
   "cell_type": "code",
   "execution_count": 71,
   "id": "d262b86f",
   "metadata": {},
   "outputs": [
    {
     "data": {
      "text/html": [
       "<div>\n",
       "<style scoped>\n",
       "    .dataframe tbody tr th:only-of-type {\n",
       "        vertical-align: middle;\n",
       "    }\n",
       "\n",
       "    .dataframe tbody tr th {\n",
       "        vertical-align: top;\n",
       "    }\n",
       "\n",
       "    .dataframe thead th {\n",
       "        text-align: right;\n",
       "    }\n",
       "</style>\n",
       "<table border=\"1\" class=\"dataframe\">\n",
       "  <thead>\n",
       "    <tr style=\"text-align: right;\">\n",
       "      <th></th>\n",
       "      <th>Loan Number</th>\n",
       "      <th>Borrower Name</th>\n",
       "      <th>Property Address</th>\n",
       "      <th>Property City</th>\n",
       "      <th>Property\\nState</th>\n",
       "      <th>Property\\nZip</th>\n",
       "      <th>Maximum Rental Loan Amount</th>\n",
       "      <th>Total Units</th>\n",
       "      <th>Closing Date</th>\n",
       "      <th>address_caps_x</th>\n",
       "      <th>...</th>\n",
       "      <th>CaseID</th>\n",
       "      <th>ViolationID</th>\n",
       "      <th>CaseNo</th>\n",
       "      <th>Location_y</th>\n",
       "      <th>ViolationDate</th>\n",
       "      <th>CodeSection</th>\n",
       "      <th>Violation</th>\n",
       "      <th>Description</th>\n",
       "      <th>LastUpload</th>\n",
       "      <th>address_caps</th>\n",
       "    </tr>\n",
       "  </thead>\n",
       "  <tbody>\n",
       "    <tr>\n",
       "      <th>0</th>\n",
       "      <td>SR000458-A</td>\n",
       "      <td>Darrelyn Allen</td>\n",
       "      <td>4233-35 Ulloa St.</td>\n",
       "      <td>New Orleans</td>\n",
       "      <td>LA</td>\n",
       "      <td>70118</td>\n",
       "      <td>182,688.30</td>\n",
       "      <td>2</td>\n",
       "      <td>4/6/2011</td>\n",
       "      <td>4233-35 ULLOA ST.</td>\n",
       "      <td>...</td>\n",
       "      <td>169232</td>\n",
       "      <td>526066</td>\n",
       "      <td>12-09319-PNBL</td>\n",
       "      <td>3701 Ulloa St</td>\n",
       "      <td>09/11/2012 08:29:00 AM</td>\n",
       "      <td>28-10</td>\n",
       "      <td>28-10 Paint / Protective Treatment</td>\n",
       "      <td>All exterior surfaces must be maintained in good condition and must be sealed and protected as needed from the elements and decay with unchipped paint or other protective treatment.</td>\n",
       "      <td>02/18/2014 10:43:37 PM</td>\n",
       "      <td>3701 ULLOA ST</td>\n",
       "    </tr>\n",
       "    <tr>\n",
       "      <th>1</th>\n",
       "      <td>SR000458-A</td>\n",
       "      <td>Darrelyn Allen</td>\n",
       "      <td>4233-35 Ulloa St.</td>\n",
       "      <td>New Orleans</td>\n",
       "      <td>LA</td>\n",
       "      <td>70118</td>\n",
       "      <td>182,688.30</td>\n",
       "      <td>2</td>\n",
       "      <td>4/6/2011</td>\n",
       "      <td>4233-35 ULLOA ST.</td>\n",
       "      <td>...</td>\n",
       "      <td>169232</td>\n",
       "      <td>526069</td>\n",
       "      <td>12-09319-PNBL</td>\n",
       "      <td>3701 Ulloa St</td>\n",
       "      <td>09/11/2012 08:29:36 AM</td>\n",
       "      <td>28-11</td>\n",
       "      <td>28-11 Studs</td>\n",
       "      <td>Structural members including studs must be maintained structurally sound.</td>\n",
       "      <td>02/18/2014 10:43:37 PM</td>\n",
       "      <td>3701 ULLOA ST</td>\n",
       "    </tr>\n",
       "    <tr>\n",
       "      <th>2</th>\n",
       "      <td>SR000458-A</td>\n",
       "      <td>Darrelyn Allen</td>\n",
       "      <td>4233-35 Ulloa St.</td>\n",
       "      <td>New Orleans</td>\n",
       "      <td>LA</td>\n",
       "      <td>70118</td>\n",
       "      <td>182,688.30</td>\n",
       "      <td>2</td>\n",
       "      <td>4/6/2011</td>\n",
       "      <td>4233-35 ULLOA ST.</td>\n",
       "      <td>...</td>\n",
       "      <td>169232</td>\n",
       "      <td>526071</td>\n",
       "      <td>12-09319-PNBL</td>\n",
       "      <td>3701 Ulloa St</td>\n",
       "      <td>09/11/2012 08:29:56 AM</td>\n",
       "      <td>28-11</td>\n",
       "      <td>28-11 Columns</td>\n",
       "      <td>Structural members including columns must be maintained structurally sound.</td>\n",
       "      <td>02/18/2014 10:43:37 PM</td>\n",
       "      <td>3701 ULLOA ST</td>\n",
       "    </tr>\n",
       "    <tr>\n",
       "      <th>3</th>\n",
       "      <td>SR000458-A</td>\n",
       "      <td>Darrelyn Allen</td>\n",
       "      <td>4233-35 Ulloa St.</td>\n",
       "      <td>New Orleans</td>\n",
       "      <td>LA</td>\n",
       "      <td>70118</td>\n",
       "      <td>182,688.30</td>\n",
       "      <td>2</td>\n",
       "      <td>4/6/2011</td>\n",
       "      <td>4233-35 ULLOA ST.</td>\n",
       "      <td>...</td>\n",
       "      <td>169232</td>\n",
       "      <td>526070</td>\n",
       "      <td>12-09319-PNBL</td>\n",
       "      <td>3701 Ulloa St</td>\n",
       "      <td>09/11/2012 08:29:43 AM</td>\n",
       "      <td>28-13</td>\n",
       "      <td>28-13 Weatherboards</td>\n",
       "      <td>Exterior walls and weatherboards must be free from holes, breaks, and loose or rotting materials, and must be maintained weatherproof and properly surface coated where required.</td>\n",
       "      <td>02/18/2014 10:43:37 PM</td>\n",
       "      <td>3701 ULLOA ST</td>\n",
       "    </tr>\n",
       "    <tr>\n",
       "      <th>4</th>\n",
       "      <td>SR000458-A</td>\n",
       "      <td>Darrelyn Allen</td>\n",
       "      <td>4233-35 Ulloa St.</td>\n",
       "      <td>New Orleans</td>\n",
       "      <td>LA</td>\n",
       "      <td>70118</td>\n",
       "      <td>182,688.30</td>\n",
       "      <td>2</td>\n",
       "      <td>4/6/2011</td>\n",
       "      <td>4233-35 ULLOA ST.</td>\n",
       "      <td>...</td>\n",
       "      <td>169232</td>\n",
       "      <td>526067</td>\n",
       "      <td>12-09319-PNBL</td>\n",
       "      <td>3701 Ulloa St</td>\n",
       "      <td>09/11/2012 08:29:05 AM</td>\n",
       "      <td>28-25</td>\n",
       "      <td>28-25 Fascia Boards</td>\n",
       "      <td>Decorative features such as fascia boards must be maintained in good repair with proper anchorage and in a safe condition.</td>\n",
       "      <td>02/18/2014 10:43:37 PM</td>\n",
       "      <td>3701 ULLOA ST</td>\n",
       "    </tr>\n",
       "  </tbody>\n",
       "</table>\n",
       "<p>5 rows × 43 columns</p>\n",
       "</div>"
      ],
      "text/plain": [
       "  Loan Number   Borrower Name   Property Address Property City  \\\n",
       "0  SR000458-A  Darrelyn Allen  4233-35 Ulloa St.   New Orleans   \n",
       "1  SR000458-A  Darrelyn Allen  4233-35 Ulloa St.   New Orleans   \n",
       "2  SR000458-A  Darrelyn Allen  4233-35 Ulloa St.   New Orleans   \n",
       "3  SR000458-A  Darrelyn Allen  4233-35 Ulloa St.   New Orleans   \n",
       "4  SR000458-A  Darrelyn Allen  4233-35 Ulloa St.   New Orleans   \n",
       "\n",
       "  Property\\nState  Property\\nZip Maximum Rental Loan Amount  Total Units  \\\n",
       "0              LA          70118                 182,688.30            2   \n",
       "1              LA          70118                 182,688.30            2   \n",
       "2              LA          70118                 182,688.30            2   \n",
       "3              LA          70118                 182,688.30            2   \n",
       "4              LA          70118                 182,688.30            2   \n",
       "\n",
       "  Closing Date     address_caps_x  ...  CaseID ViolationID         CaseNo  \\\n",
       "0     4/6/2011  4233-35 ULLOA ST.  ...  169232      526066  12-09319-PNBL   \n",
       "1     4/6/2011  4233-35 ULLOA ST.  ...  169232      526069  12-09319-PNBL   \n",
       "2     4/6/2011  4233-35 ULLOA ST.  ...  169232      526071  12-09319-PNBL   \n",
       "3     4/6/2011  4233-35 ULLOA ST.  ...  169232      526070  12-09319-PNBL   \n",
       "4     4/6/2011  4233-35 ULLOA ST.  ...  169232      526067  12-09319-PNBL   \n",
       "\n",
       "      Location_y           ViolationDate CodeSection  \\\n",
       "0  3701 Ulloa St  09/11/2012 08:29:00 AM       28-10   \n",
       "1  3701 Ulloa St  09/11/2012 08:29:36 AM       28-11   \n",
       "2  3701 Ulloa St  09/11/2012 08:29:56 AM       28-11   \n",
       "3  3701 Ulloa St  09/11/2012 08:29:43 AM       28-13   \n",
       "4  3701 Ulloa St  09/11/2012 08:29:05 AM       28-25   \n",
       "\n",
       "                            Violation  \\\n",
       "0  28-10 Paint / Protective Treatment   \n",
       "1                         28-11 Studs   \n",
       "2                       28-11 Columns   \n",
       "3                 28-13 Weatherboards   \n",
       "4                 28-25 Fascia Boards   \n",
       "\n",
       "                                                                                                                                                                             Description  \\\n",
       "0  All exterior surfaces must be maintained in good condition and must be sealed and protected as needed from the elements and decay with unchipped paint or other protective treatment.   \n",
       "1                                                                                                              Structural members including studs must be maintained structurally sound.   \n",
       "2                                                                                                            Structural members including columns must be maintained structurally sound.   \n",
       "3      Exterior walls and weatherboards must be free from holes, breaks, and loose or rotting materials, and must be maintained weatherproof and properly surface coated where required.   \n",
       "4                                                             Decorative features such as fascia boards must be maintained in good repair with proper anchorage and in a safe condition.   \n",
       "\n",
       "               LastUpload   address_caps  \n",
       "0  02/18/2014 10:43:37 PM  3701 ULLOA ST  \n",
       "1  02/18/2014 10:43:37 PM  3701 ULLOA ST  \n",
       "2  02/18/2014 10:43:37 PM  3701 ULLOA ST  \n",
       "3  02/18/2014 10:43:37 PM  3701 ULLOA ST  \n",
       "4  02/18/2014 10:43:37 PM  3701 ULLOA ST  \n",
       "\n",
       "[5 rows x 43 columns]"
      ]
     },
     "execution_count": 71,
     "metadata": {},
     "output_type": "execute_result"
    }
   ],
   "source": [
    "merged_blight.head()"
   ]
  },
  {
   "cell_type": "markdown",
   "id": "ca2a0526",
   "metadata": {},
   "source": [
    "### Let's just test some fuzzy matching"
   ]
  },
  {
   "cell_type": "code",
   "execution_count": 30,
   "id": "d31354ef",
   "metadata": {},
   "outputs": [],
   "source": [
    "from thefuzz import fuzz, process"
   ]
  },
  {
   "cell_type": "code",
   "execution_count": 41,
   "id": "54027dcf",
   "metadata": {},
   "outputs": [
    {
     "data": {
      "text/plain": [
       "72"
      ]
     },
     "execution_count": 41,
     "metadata": {},
     "output_type": "execute_result"
    }
   ],
   "source": [
    "## Let's test how it would match some addresses\n",
    "fuzz.ratio(\"1735, 1737 PIETY STREET\", \"1011 PIETY ST\")\n",
    "fuzz.ratio(\"1735, 1737 PIETY STREET\", \"1737 PIETY ST\")"
   ]
  },
  {
   "cell_type": "code",
   "execution_count": null,
   "id": "efaac73b",
   "metadata": {},
   "outputs": [],
   "source": []
  }
 ],
 "metadata": {
  "kernelspec": {
   "display_name": "Python 3",
   "language": "python",
   "name": "python3"
  },
  "language_info": {
   "codemirror_mode": {
    "name": "ipython",
    "version": 3
   },
   "file_extension": ".py",
   "mimetype": "text/x-python",
   "name": "python",
   "nbconvert_exporter": "python",
   "pygments_lexer": "ipython3",
   "version": "3.9.5"
  }
 },
 "nbformat": 4,
 "nbformat_minor": 5
}
